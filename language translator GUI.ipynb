{
 "cells": [
  {
   "cell_type": "code",
   "execution_count": 1,
   "id": "e3f2d86f",
   "metadata": {
    "scrolled": true
   },
   "outputs": [
    {
     "name": "stdout",
     "output_type": "stream",
     "text": [
      "Collecting googletrans==3.1.0a0\n",
      "  Downloading googletrans-3.1.0a0.tar.gz (19 kB)\n",
      "  Preparing metadata (setup.py): started\n",
      "  Preparing metadata (setup.py): finished with status 'done'\n",
      "Collecting httpx==0.13.3\n",
      "  Downloading httpx-0.13.3-py3-none-any.whl (55 kB)\n",
      "     -------------------------------------- 55.1/55.1 kB 136.8 kB/s eta 0:00:00\n",
      "Requirement already satisfied: sniffio in c:\\users\\visha\\anaconda3\\lib\\site-packages (from httpx==0.13.3->googletrans==3.1.0a0) (1.2.0)\n",
      "Requirement already satisfied: certifi in c:\\users\\visha\\anaconda3\\lib\\site-packages (from httpx==0.13.3->googletrans==3.1.0a0) (2022.6.15)\n",
      "Collecting rfc3986<2,>=1.3\n",
      "  Downloading rfc3986-1.5.0-py2.py3-none-any.whl (31 kB)\n",
      "Collecting httpcore==0.9.*\n",
      "  Downloading httpcore-0.9.1-py3-none-any.whl (42 kB)\n",
      "     -------------------------------------- 42.6/42.6 kB 173.3 kB/s eta 0:00:00\n",
      "Collecting hstspreload\n",
      "  Downloading hstspreload-2022.11.1-py3-none-any.whl (1.4 MB)\n",
      "     ---------------------------------------- 1.4/1.4 MB 213.0 kB/s eta 0:00:00\n",
      "Requirement already satisfied: idna==2.* in c:\\users\\visha\\anaconda3\\lib\\site-packages (from httpx==0.13.3->googletrans==3.1.0a0) (2.10)\n",
      "Collecting chardet==3.*\n",
      "  Downloading chardet-3.0.4-py2.py3-none-any.whl (133 kB)\n",
      "     ------------------------------------ 133.4/133.4 kB 375.4 kB/s eta 0:00:00\n",
      "Collecting h2==3.*\n",
      "  Downloading h2-3.2.0-py2.py3-none-any.whl (65 kB)\n",
      "     -------------------------------------- 65.0/65.0 kB 702.6 kB/s eta 0:00:00\n",
      "Note: you may need to restart the kernel to use updated packages.\n"
     ]
    },
    {
     "name": "stderr",
     "output_type": "stream",
     "text": [
      "ERROR: pip's dependency resolver does not currently take into account all the packages that are installed. This behaviour is the source of the following dependency conflicts.\n",
      "spyder 4.2.5 requires pyqt5<5.13, which is not installed.\n",
      "spyder 4.2.5 requires pyqtwebengine<5.13, which is not installed.\n",
      "conda-repo-cli 1.0.4 requires pathlib, which is not installed.\n",
      "anaconda-project 0.9.1 requires ruamel-yaml, which is not installed.\n"
     ]
    },
    {
     "name": "stdout",
     "output_type": "stream",
     "text": [
      "Collecting h11<0.10,>=0.8\n",
      "  Downloading h11-0.9.0-py2.py3-none-any.whl (53 kB)\n",
      "     -------------------------------------- 53.6/53.6 kB 688.4 kB/s eta 0:00:00\n",
      "Collecting hyperframe<6,>=5.2.0\n",
      "  Downloading hyperframe-5.2.0-py2.py3-none-any.whl (12 kB)\n",
      "Collecting hpack<4,>=3.0\n",
      "  Downloading hpack-3.0.0-py2.py3-none-any.whl (38 kB)\n",
      "Building wheels for collected packages: googletrans\n",
      "  Building wheel for googletrans (setup.py): started\n",
      "  Building wheel for googletrans (setup.py): finished with status 'done'\n",
      "  Created wheel for googletrans: filename=googletrans-3.1.0a0-py3-none-any.whl size=16368 sha256=859220c2f6090726f8c1fe0b1e702edb22bf2eeee2650f2b2d89ca82037755cf\n",
      "  Stored in directory: c:\\users\\visha\\appdata\\local\\pip\\cache\\wheels\\77\\ac\\23\\67654ea0463b6e5c538ff070ff77ad7205c060539eb305e242\n",
      "Successfully built googletrans\n",
      "Installing collected packages: rfc3986, hyperframe, hpack, h11, chardet, hstspreload, h2, httpcore, httpx, googletrans\n",
      "  Attempting uninstall: h11\n",
      "    Found existing installation: h11 0.13.0\n",
      "    Uninstalling h11-0.13.0:\n",
      "      Successfully uninstalled h11-0.13.0\n",
      "  Attempting uninstall: chardet\n",
      "    Found existing installation: chardet 4.0.0\n",
      "    Uninstalling chardet-4.0.0:\n",
      "      Successfully uninstalled chardet-4.0.0\n",
      "Successfully installed chardet-3.0.4 googletrans-3.1.0a0 h11-0.9.0 h2-3.2.0 hpack-3.0.0 hstspreload-2022.11.1 httpcore-0.9.1 httpx-0.13.3 hyperframe-5.2.0 rfc3986-1.5.0\n"
     ]
    }
   ],
   "source": [
    "#pip install googletrans==3.1.0a0\n",
    "#pip installation done sucessfully"
   ]
  },
  {
   "cell_type": "code",
   "execution_count": 10,
   "id": "9740ab53",
   "metadata": {},
   "outputs": [
    {
     "name": "stdout",
     "output_type": "stream",
     "text": [
      "Collecting gtts\n",
      "  Downloading gTTS-2.2.4-py3-none-any.whl (26 kB)\n",
      "Requirement already satisfied: six in c:\\users\\visha\\anaconda3\\lib\\site-packages (from gtts) (1.15.0)\n",
      "Requirement already satisfied: click in c:\\users\\visha\\anaconda3\\lib\\site-packages (from gtts) (7.1.2)\n",
      "Requirement already satisfied: requests in c:\\users\\visha\\anaconda3\\lib\\site-packages (from gtts) (2.25.1)\n",
      "Requirement already satisfied: certifi>=2017.4.17 in c:\\users\\visha\\anaconda3\\lib\\site-packages (from requests->gtts) (2022.6.15)\n",
      "Requirement already satisfied: chardet<5,>=3.0.2 in c:\\users\\visha\\anaconda3\\lib\\site-packages (from requests->gtts) (3.0.4)\n",
      "Requirement already satisfied: urllib3<1.27,>=1.21.1 in c:\\users\\visha\\anaconda3\\lib\\site-packages (from requests->gtts) (1.26.4)\n",
      "Requirement already satisfied: idna<3,>=2.5 in c:\\users\\visha\\anaconda3\\lib\\site-packages (from requests->gtts) (2.10)\n",
      "Installing collected packages: gtts\n",
      "Successfully installed gtts-2.2.4\n",
      "Note: you may need to restart the kernel to use updated packages.\n"
     ]
    }
   ],
   "source": [
    "#pip install gtts\n",
    "#install the gtts library (google text to speech)"
   ]
  },
  {
   "cell_type": "code",
   "execution_count": 11,
   "id": "1950ad06",
   "metadata": {},
   "outputs": [],
   "source": [
    "from googletrans import Translator\n",
    "from gtts import gTTS"
   ]
  },
  {
   "cell_type": "code",
   "execution_count": 14,
   "id": "38d4466c",
   "metadata": {},
   "outputs": [],
   "source": [
    "#from googletrans import Translator\n",
    "#from gtts import gTTS\n",
    "from tkinter import *\n",
    "\n",
    "window=Tk()\n",
    "window.geometry('800x600')\n",
    "window.config(bg=\"black\")\n",
    "set_bg=PhotoImage(file=\"pngfile1.png\")\n",
    "#setting up the background file\n",
    "label_1=Label(window,image=set_bg)\n",
    "label_1.place(x=0,y=0)\n",
    "\n",
    "\n",
    "e1=Entry(window,bg=\"white\",fg=\"black\",font=(\"Arial\",25,\"bold\"))\n",
    "e1.place(x=20,y=20)\n",
    "\n",
    "def convert_language():\n",
    "    a1=e1.get()\n",
    "    t1=Translator()\n",
    "    t2=click_option.get()\n",
    "    \n",
    "    if t2==\"English\":\n",
    "        convert=\"en\"\n",
    "    elif t2==\"Hindi\":\n",
    "        convert=\"hi\"\n",
    "    elif t2==\"German\":\n",
    "        convert=\"de\"\n",
    "    elif t2==\"French\":\n",
    "        convert=\"fr\"\n",
    "    elif t2==\"Spanish\":\n",
    "        convert=\"es\"\n",
    "    elif t2==\"Russian\":\n",
    "        convert=\"ru\"\n",
    "        \n",
    "    trans_text = t1.translate(a1,dest=convert)\n",
    "    trans_text = trans_text.text\n",
    "    \n",
    "    ob1 = gTTS(text=trans_text,slow=False,lang=convert)\n",
    "    label_2.config(text=trans_text)\n",
    "\n",
    "    \n",
    "choices = [\n",
    "    \"English\",\n",
    "    \"Hindi\",\n",
    "    \"German\",\n",
    "    \"French\",\n",
    "    \"Spanish\",\n",
    "    \"Russian\"\n",
    "]\n",
    "\n",
    "click_option = StringVar()\n",
    "click_option.set(\"Select Language\")\n",
    "\n",
    "list_drop = OptionMenu(window, click_option, *choices)\n",
    "list_drop.configure(background=\"green\",foreground=\"white\",font=(\"Arial\",15,\"bold\"))\n",
    "list_drop.place(x=600,y=50)\n",
    "\n",
    "\n",
    "label_2 = Label(window,text=\"\\t\\t\\t\\t\\t\",bg=\"black\",fg=\"white\",font=(\"Arial\",40,\"bold\"))\n",
    "label_2.place(x=0,y=120)\n",
    "label_2 = Label(window, text=\"Translated Text\",bg=\"black\",fg=\"white\",font=(\"Arial\",40,\"bold\"))\n",
    "label_2.place(x=180,y=120)\n",
    "\n",
    "\n",
    "Button_1 = Button(window,text=\"Translate\",bg=\"red\",fg=\"white\",font=(\"Arial\",25,\"bold\"),command=convert_language)\n",
    "Button_1.place(x=220,y=200)\n",
    "\n",
    "window.mainloop()"
   ]
  },
  {
   "cell_type": "code",
   "execution_count": null,
   "id": "1fa566be",
   "metadata": {},
   "outputs": [],
   "source": []
  },
  {
   "cell_type": "code",
   "execution_count": null,
   "id": "e76b1c35",
   "metadata": {},
   "outputs": [],
   "source": []
  }
 ],
 "metadata": {
  "kernelspec": {
   "display_name": "Python 3",
   "language": "python",
   "name": "python3"
  },
  "language_info": {
   "codemirror_mode": {
    "name": "ipython",
    "version": 3
   },
   "file_extension": ".py",
   "mimetype": "text/x-python",
   "name": "python",
   "nbconvert_exporter": "python",
   "pygments_lexer": "ipython3",
   "version": "3.8.8"
  }
 },
 "nbformat": 4,
 "nbformat_minor": 5
}
